{
  "nbformat": 4,
  "nbformat_minor": 0,
  "metadata": {
    "colab": {
      "provenance": []
    },
    "kernelspec": {
      "name": "python3",
      "display_name": "Python 3"
    },
    "language_info": {
      "name": "python"
    }
  },
  "cells": [
    {
      "cell_type": "code",
      "execution_count": 1,
      "metadata": {
        "colab": {
          "base_uri": "https://localhost:8080/"
        },
        "id": "muJ-D-6SfP4m",
        "outputId": "00635c62-46a5-4f68-903c-5f8c884052e8"
      },
      "outputs": [
        {
          "output_type": "stream",
          "name": "stdout",
          "text": [
            "Collecting torchinfo\n",
            "  Downloading torchinfo-1.8.0-py3-none-any.whl.metadata (21 kB)\n",
            "Downloading torchinfo-1.8.0-py3-none-any.whl (23 kB)\n",
            "Installing collected packages: torchinfo\n",
            "Successfully installed torchinfo-1.8.0\n"
          ]
        }
      ],
      "source": [
        "!pip install torchinfo"
      ]
    },
    {
      "cell_type": "code",
      "source": [
        "import torch\n",
        "import torch.nn as nn\n",
        "from torchinfo import summary"
      ],
      "metadata": {
        "id": "_ojTnP66fWp0"
      },
      "execution_count": 2,
      "outputs": []
    },
    {
      "cell_type": "code",
      "source": [
        "class Model(nn.Module):\n",
        "  def __init__(self, num_features):\n",
        "\n",
        "    super().__init__()\n",
        "\n",
        "    self.network = nn.Sequential(\n",
        "        nn.Linear(num_features, 3),\n",
        "        nn.ReLU(),\n",
        "        nn.Linear(3, 2),\n",
        "        nn.ReLU(),\n",
        "        nn.Linear(2,1),\n",
        "        nn.Sigmoid()\n",
        "    )\n",
        "\n",
        "  def forward(self, num_features):\n",
        "    out = self.network(num_features)\n",
        "    return out"
      ],
      "metadata": {
        "id": "stAwyn1xfh6I"
      },
      "execution_count": 7,
      "outputs": []
    },
    {
      "cell_type": "code",
      "source": [
        "data = torch.rand(20,5)\n",
        "data"
      ],
      "metadata": {
        "colab": {
          "base_uri": "https://localhost:8080/"
        },
        "id": "E8dyizRxgRjH",
        "outputId": "3fd7963a-c7c2-4754-8ada-890c88062784"
      },
      "execution_count": 8,
      "outputs": [
        {
          "output_type": "execute_result",
          "data": {
            "text/plain": [
              "tensor([[0.6172, 0.1636, 0.3719, 0.9441, 0.3496],\n",
              "        [0.4355, 0.3848, 0.1606, 0.7091, 0.7645],\n",
              "        [0.8182, 0.2467, 0.8248, 0.5814, 0.3059],\n",
              "        [0.8441, 0.1388, 0.9633, 0.7153, 0.2561],\n",
              "        [0.1357, 0.9810, 0.4787, 0.1893, 0.4392],\n",
              "        [0.6384, 0.9968, 0.4236, 0.3615, 0.4854],\n",
              "        [0.0222, 0.9598, 0.5310, 0.1671, 0.5224],\n",
              "        [0.5215, 0.0931, 0.7306, 0.5636, 0.3445],\n",
              "        [0.8446, 0.5036, 0.4690, 0.4859, 0.2336],\n",
              "        [0.3714, 0.3959, 0.0026, 0.5582, 0.7174],\n",
              "        [0.1973, 0.7761, 0.3458, 0.4043, 0.9890],\n",
              "        [0.9347, 0.8803, 0.6033, 0.5982, 0.9731],\n",
              "        [0.8777, 0.8403, 0.4975, 0.6663, 0.5049],\n",
              "        [0.1561, 0.2464, 0.5459, 0.4440, 0.5236],\n",
              "        [0.6983, 0.3075, 0.9158, 0.6981, 0.5129],\n",
              "        [0.7938, 0.5403, 0.9910, 0.2635, 0.8455],\n",
              "        [0.9916, 0.9716, 0.0103, 0.2484, 0.3904],\n",
              "        [0.2466, 0.3206, 0.0382, 0.8082, 0.5219],\n",
              "        [0.6164, 0.4824, 0.4094, 0.9000, 0.3725],\n",
              "        [0.1466, 0.3470, 0.4508, 0.7985, 0.0549]])"
            ]
          },
          "metadata": {},
          "execution_count": 8
        }
      ]
    },
    {
      "cell_type": "code",
      "source": [
        "model = Model(data.shape[1])"
      ],
      "metadata": {
        "id": "yZzkWm8lgV96"
      },
      "execution_count": 9,
      "outputs": []
    },
    {
      "cell_type": "code",
      "source": [
        "model(data)"
      ],
      "metadata": {
        "colab": {
          "base_uri": "https://localhost:8080/"
        },
        "id": "52e-O_YcgYFj",
        "outputId": "2826bdf6-b0d0-4a98-a1ed-df77582a082e"
      },
      "execution_count": 10,
      "outputs": [
        {
          "output_type": "execute_result",
          "data": {
            "text/plain": [
              "tensor([[0.5710],\n",
              "        [0.5726],\n",
              "        [0.5741],\n",
              "        [0.5759],\n",
              "        [0.5680],\n",
              "        [0.5727],\n",
              "        [0.5689],\n",
              "        [0.5725],\n",
              "        [0.5688],\n",
              "        [0.5694],\n",
              "        [0.5751],\n",
              "        [0.5849],\n",
              "        [0.5763],\n",
              "        [0.5718],\n",
              "        [0.5785],\n",
              "        [0.5839],\n",
              "        [0.5729],\n",
              "        [0.5700],\n",
              "        [0.5706],\n",
              "        [0.5700]], grad_fn=<SigmoidBackward0>)"
            ]
          },
          "metadata": {},
          "execution_count": 10
        }
      ]
    },
    {
      "cell_type": "code",
      "source": [],
      "metadata": {
        "id": "9E595TrSgapd"
      },
      "execution_count": 12,
      "outputs": []
    },
    {
      "cell_type": "code",
      "source": [
        "summary(model, input_size=(20,5))"
      ],
      "metadata": {
        "colab": {
          "base_uri": "https://localhost:8080/"
        },
        "id": "B7jgro9ggjZ-",
        "outputId": "30e24e6e-66f5-45eb-856d-c12d169f27fa"
      },
      "execution_count": 13,
      "outputs": [
        {
          "output_type": "execute_result",
          "data": {
            "text/plain": [
              "==========================================================================================\n",
              "Layer (type:depth-idx)                   Output Shape              Param #\n",
              "==========================================================================================\n",
              "Model                                    [20, 1]                   --\n",
              "├─Sequential: 1-1                        [20, 1]                   --\n",
              "│    └─Linear: 2-1                       [20, 3]                   18\n",
              "│    └─ReLU: 2-2                         [20, 3]                   --\n",
              "│    └─Linear: 2-3                       [20, 2]                   8\n",
              "│    └─ReLU: 2-4                         [20, 2]                   --\n",
              "│    └─Linear: 2-5                       [20, 1]                   3\n",
              "│    └─Sigmoid: 2-6                      [20, 1]                   --\n",
              "==========================================================================================\n",
              "Total params: 29\n",
              "Trainable params: 29\n",
              "Non-trainable params: 0\n",
              "Total mult-adds (Units.MEGABYTES): 0.00\n",
              "==========================================================================================\n",
              "Input size (MB): 0.00\n",
              "Forward/backward pass size (MB): 0.00\n",
              "Params size (MB): 0.00\n",
              "Estimated Total Size (MB): 0.00\n",
              "=========================================================================================="
            ]
          },
          "metadata": {},
          "execution_count": 13
        }
      ]
    },
    {
      "cell_type": "code",
      "source": [],
      "metadata": {
        "id": "WqO_0NMags0a"
      },
      "execution_count": null,
      "outputs": []
    }
  ]
}