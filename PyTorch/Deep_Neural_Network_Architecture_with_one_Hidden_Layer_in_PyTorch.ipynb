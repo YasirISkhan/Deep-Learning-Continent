{
  "nbformat": 4,
  "nbformat_minor": 0,
  "metadata": {
    "colab": {
      "provenance": []
    },
    "kernelspec": {
      "name": "python3",
      "display_name": "Python 3"
    },
    "language_info": {
      "name": "python"
    }
  },
  "cells": [
    {
      "cell_type": "code",
      "execution_count": 1,
      "metadata": {
        "colab": {
          "base_uri": "https://localhost:8080/"
        },
        "id": "dxafmDHOYuMY",
        "outputId": "94b98bbc-1392-4299-b099-b98bb939e40d"
      },
      "outputs": [
        {
          "output_type": "stream",
          "name": "stdout",
          "text": [
            "Collecting torchinfo\n",
            "  Downloading torchinfo-1.8.0-py3-none-any.whl.metadata (21 kB)\n",
            "Downloading torchinfo-1.8.0-py3-none-any.whl (23 kB)\n",
            "Installing collected packages: torchinfo\n",
            "Successfully installed torchinfo-1.8.0\n"
          ]
        }
      ],
      "source": [
        "!pip install torchinfo"
      ]
    },
    {
      "cell_type": "code",
      "source": [
        "import torch\n",
        "import torch.nn as nn\n",
        "from torchinfo import summary"
      ],
      "metadata": {
        "id": "QaJ_ArCGco2-"
      },
      "execution_count": 3,
      "outputs": []
    },
    {
      "cell_type": "markdown",
      "source": [
        "# Architecture Building"
      ],
      "metadata": {
        "id": "z_3_MXwJcx5-"
      }
    },
    {
      "cell_type": "code",
      "source": [
        "class Model(nn.Module):\n",
        "  # Defining constructor for child class\n",
        "  def __init__(self, num_features):\n",
        "\n",
        "    # Calling constructor of super class\n",
        "    super().__init__()\n",
        "\n",
        "    # Creating layers of our neural network\n",
        "    self.linear1 = nn.Linear(num_features, 3)\n",
        "    self.relu1 = nn.ReLU()\n",
        "    self.linear2 = nn.Linear(3, 2)\n",
        "    self.relu2 = nn.ReLU()\n",
        "    self.linear3 = nn.Linear(2, 1)\n",
        "    self.sigmoid = nn.Sigmoid()\n",
        "\n",
        "  # Defining forward pass function\n",
        "  def forward(self, num_features):\n",
        "    out = self.linear1(num_features)\n",
        "    out = self.relu1(out)\n",
        "    out = self.linear2(out)\n",
        "    out = self.relu2(out)\n",
        "    out = self.linear3(out)\n",
        "    out = self.sigmoid(out)\n",
        "\n",
        "    return out\n"
      ],
      "metadata": {
        "id": "wpTX1I96co6i"
      },
      "execution_count": 4,
      "outputs": []
    },
    {
      "cell_type": "markdown",
      "source": [
        "# Dataset Creation"
      ],
      "metadata": {
        "id": "OYNKT2NjeQNH"
      }
    },
    {
      "cell_type": "code",
      "source": [
        "data = torch.rand(20,5)\n",
        "data"
      ],
      "metadata": {
        "colab": {
          "base_uri": "https://localhost:8080/"
        },
        "id": "7Ww6WdCEeOQ2",
        "outputId": "0f5c9245-db6c-429f-85fa-a6cbd79a3095"
      },
      "execution_count": 5,
      "outputs": [
        {
          "output_type": "execute_result",
          "data": {
            "text/plain": [
              "tensor([[0.2081, 0.4163, 0.1685, 0.0361, 0.7517],\n",
              "        [0.7775, 0.5939, 0.0430, 0.7003, 0.4637],\n",
              "        [0.8500, 0.8783, 0.8617, 0.9992, 0.6830],\n",
              "        [0.3052, 0.4522, 0.6141, 0.4645, 0.2772],\n",
              "        [0.7290, 0.0574, 0.4136, 0.5841, 0.9756],\n",
              "        [0.2335, 0.5935, 0.7257, 0.7430, 0.2905],\n",
              "        [0.6933, 0.3600, 0.6333, 0.9717, 0.1743],\n",
              "        [0.3205, 0.4744, 0.5056, 0.5126, 0.9144],\n",
              "        [0.6891, 0.4434, 0.7159, 0.3098, 0.1198],\n",
              "        [0.3202, 0.9892, 0.1688, 0.9892, 0.3933],\n",
              "        [0.4639, 0.1809, 0.8628, 0.0864, 0.4299],\n",
              "        [0.5947, 0.3687, 0.4471, 0.0235, 0.5847],\n",
              "        [0.0814, 0.6759, 0.1195, 0.1625, 0.8798],\n",
              "        [0.2875, 0.7142, 0.8966, 0.7663, 0.5875],\n",
              "        [0.8737, 0.9415, 0.0907, 0.4904, 0.1166],\n",
              "        [0.9427, 0.8623, 0.3673, 0.8659, 0.1240],\n",
              "        [0.4881, 0.2252, 0.4672, 0.7059, 0.7972],\n",
              "        [0.4717, 0.2371, 0.6056, 0.1312, 0.6460],\n",
              "        [0.3596, 0.6149, 0.1983, 0.1999, 0.7869],\n",
              "        [0.5869, 0.5478, 0.7954, 0.3178, 0.9755]])"
            ]
          },
          "metadata": {},
          "execution_count": 5
        }
      ]
    },
    {
      "cell_type": "markdown",
      "source": [
        "# Model Creation"
      ],
      "metadata": {
        "id": "p9qfacObeX7H"
      }
    },
    {
      "cell_type": "code",
      "source": [
        "model = Model(data.shape[1])"
      ],
      "metadata": {
        "id": "wwVZdvz1eVfW"
      },
      "execution_count": 7,
      "outputs": []
    },
    {
      "cell_type": "markdown",
      "source": [
        "# Applying forward pass"
      ],
      "metadata": {
        "id": "Qu4G8QO2egMg"
      }
    },
    {
      "cell_type": "code",
      "source": [
        "model(data)"
      ],
      "metadata": {
        "colab": {
          "base_uri": "https://localhost:8080/"
        },
        "id": "a5l9ubLHec9Q",
        "outputId": "9345bf0e-9392-4bd1-d8cc-5e973ab8ec90"
      },
      "execution_count": 8,
      "outputs": [
        {
          "output_type": "execute_result",
          "data": {
            "text/plain": [
              "tensor([[0.4411],\n",
              "        [0.4412],\n",
              "        [0.4415],\n",
              "        [0.4414],\n",
              "        [0.4415],\n",
              "        [0.4415],\n",
              "        [0.4415],\n",
              "        [0.4415],\n",
              "        [0.4411],\n",
              "        [0.4415],\n",
              "        [0.4411],\n",
              "        [0.4410],\n",
              "        [0.4413],\n",
              "        [0.4415],\n",
              "        [0.4410],\n",
              "        [0.4414],\n",
              "        [0.4415],\n",
              "        [0.4411],\n",
              "        [0.4412],\n",
              "        [0.4415]], grad_fn=<SigmoidBackward0>)"
            ]
          },
          "metadata": {},
          "execution_count": 8
        }
      ]
    },
    {
      "cell_type": "code",
      "source": [
        "model.linear1.weight"
      ],
      "metadata": {
        "colab": {
          "base_uri": "https://localhost:8080/"
        },
        "id": "-5BjDD2TeoGB",
        "outputId": "0c422eca-cf2f-4b14-b103-0230ca540d51"
      },
      "execution_count": 9,
      "outputs": [
        {
          "output_type": "execute_result",
          "data": {
            "text/plain": [
              "Parameter containing:\n",
              "tensor([[-0.2123,  0.1937,  0.4197,  0.4424,  0.2665],\n",
              "        [ 0.0500, -0.4411, -0.2804,  0.4077,  0.3729],\n",
              "        [-0.4315,  0.0573, -0.2051,  0.3838, -0.0985]], requires_grad=True)"
            ]
          },
          "metadata": {},
          "execution_count": 9
        }
      ]
    },
    {
      "cell_type": "code",
      "source": [
        "model.linear1.bias"
      ],
      "metadata": {
        "colab": {
          "base_uri": "https://localhost:8080/"
        },
        "id": "Iv0ONjjwetLI",
        "outputId": "a0435f45-89e6-4b3c-83a6-bfcf81b675ff"
      },
      "execution_count": 10,
      "outputs": [
        {
          "output_type": "execute_result",
          "data": {
            "text/plain": [
              "Parameter containing:\n",
              "tensor([ 0.0558, -0.2851,  0.3982], requires_grad=True)"
            ]
          },
          "metadata": {},
          "execution_count": 10
        }
      ]
    },
    {
      "cell_type": "code",
      "source": [
        "model.linear2.weight"
      ],
      "metadata": {
        "colab": {
          "base_uri": "https://localhost:8080/"
        },
        "id": "q6KsqxTJev0s",
        "outputId": "31f6273e-b70d-405c-da2f-f88eff13cd4e"
      },
      "execution_count": 11,
      "outputs": [
        {
          "output_type": "execute_result",
          "data": {
            "text/plain": [
              "Parameter containing:\n",
              "tensor([[-0.3245,  0.3798, -0.1540],\n",
              "        [-0.2443, -0.2342, -0.0907]], requires_grad=True)"
            ]
          },
          "metadata": {},
          "execution_count": 11
        }
      ]
    },
    {
      "cell_type": "code",
      "source": [
        "model.linear2.bias"
      ],
      "metadata": {
        "colab": {
          "base_uri": "https://localhost:8080/"
        },
        "id": "TeTYahOpextY",
        "outputId": "c80b62fb-fda0-4ade-9a31-7c605e6a6cf7"
      },
      "execution_count": 12,
      "outputs": [
        {
          "output_type": "execute_result",
          "data": {
            "text/plain": [
              "Parameter containing:\n",
              "tensor([-0.2610,  0.1912], requires_grad=True)"
            ]
          },
          "metadata": {},
          "execution_count": 12
        }
      ]
    },
    {
      "cell_type": "code",
      "source": [
        "model.linear3.weight"
      ],
      "metadata": {
        "colab": {
          "base_uri": "https://localhost:8080/"
        },
        "id": "d22hz3FpezPi",
        "outputId": "aac2f8b1-e997-4abc-9966-b567eed9da26"
      },
      "execution_count": 13,
      "outputs": [
        {
          "output_type": "execute_result",
          "data": {
            "text/plain": [
              "Parameter containing:\n",
              "tensor([[-0.1774, -0.0195]], requires_grad=True)"
            ]
          },
          "metadata": {},
          "execution_count": 13
        }
      ]
    },
    {
      "cell_type": "code",
      "source": [
        "model.linear3.bias"
      ],
      "metadata": {
        "colab": {
          "base_uri": "https://localhost:8080/"
        },
        "id": "s90yN9zEe0ys",
        "outputId": "0c8d04fe-cd37-40d9-debc-411ff80a3021"
      },
      "execution_count": 14,
      "outputs": [
        {
          "output_type": "execute_result",
          "data": {
            "text/plain": [
              "Parameter containing:\n",
              "tensor([-0.2352], requires_grad=True)"
            ]
          },
          "metadata": {},
          "execution_count": 14
        }
      ]
    },
    {
      "cell_type": "markdown",
      "source": [
        "# Model Architecture in diagram form"
      ],
      "metadata": {
        "id": "VEWe4DOHe3St"
      }
    },
    {
      "cell_type": "code",
      "source": [
        "summary(model, input_size=(20,5))"
      ],
      "metadata": {
        "colab": {
          "base_uri": "https://localhost:8080/"
        },
        "id": "Z6L3beLEe2bp",
        "outputId": "dd89ffd8-cec1-4ef8-9fde-f0fb928fda7c"
      },
      "execution_count": 15,
      "outputs": [
        {
          "output_type": "execute_result",
          "data": {
            "text/plain": [
              "==========================================================================================\n",
              "Layer (type:depth-idx)                   Output Shape              Param #\n",
              "==========================================================================================\n",
              "Model                                    [20, 1]                   --\n",
              "├─Linear: 1-1                            [20, 3]                   18\n",
              "├─ReLU: 1-2                              [20, 3]                   --\n",
              "├─Linear: 1-3                            [20, 2]                   8\n",
              "├─ReLU: 1-4                              [20, 2]                   --\n",
              "├─Linear: 1-5                            [20, 1]                   3\n",
              "├─Sigmoid: 1-6                           [20, 1]                   --\n",
              "==========================================================================================\n",
              "Total params: 29\n",
              "Trainable params: 29\n",
              "Non-trainable params: 0\n",
              "Total mult-adds (Units.MEGABYTES): 0.00\n",
              "==========================================================================================\n",
              "Input size (MB): 0.00\n",
              "Forward/backward pass size (MB): 0.00\n",
              "Params size (MB): 0.00\n",
              "Estimated Total Size (MB): 0.00\n",
              "=========================================================================================="
            ]
          },
          "metadata": {},
          "execution_count": 15
        }
      ]
    },
    {
      "cell_type": "code",
      "source": [],
      "metadata": {
        "id": "98_Esowhe9Id"
      },
      "execution_count": null,
      "outputs": []
    }
  ]
}